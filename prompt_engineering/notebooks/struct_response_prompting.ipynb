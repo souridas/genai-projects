{
 "cells": [
  {
   "cell_type": "code",
   "execution_count": 31,
   "metadata": {},
   "outputs": [],
   "source": [
    "\n",
    "from pydantic import BaseModel\n",
    "from typing import Optional\n",
    "from groq import Groq\n",
    "import json\n",
    "import instructor\n",
    "from typing import List, Optional, Literal\n",
    "\n",
    "\n",
    "# Initialize the client with instructor\n",
    "api_key = \"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\"\n",
    "client = Groq(api_key=api_key)\n"
   ]
  },
  {
   "cell_type": "markdown",
   "metadata": {},
   "source": [
    "### INSTRUCTOR BASED APPROACH"
   ]
  },
  {
   "cell_type": "code",
   "execution_count": 32,
   "metadata": {},
   "outputs": [],
   "source": [
    "client = instructor.from_groq(client)\n",
    "\n",
    "class User(BaseModel):\n",
    "    name: str\n",
    "    age: int\n",
    "    email: Optional[str] = None"
   ]
  },
  {
   "cell_type": "code",
   "execution_count": 33,
   "metadata": {},
   "outputs": [],
   "source": [
    "class SupportTicket(BaseModel):\n",
    "    ticket_id: str\n",
    "    order_id: str\n",
    "    user_id: str\n",
    "    date: str\n",
    "    description: str\n",
    "    category: Literal[\"delivery\", \"payment\", \"other\"]\n",
    "    priority: Optional[Literal[\"low\", \"medium\", \"high\"]] = None\n",
    "    status: Optional[Literal[\"open\", \"closed\", \"in progress\"]] = None\n",
    "    \n",
    "    "
   ]
  },
  {
   "cell_type": "code",
   "execution_count": 34,
   "metadata": {},
   "outputs": [
    {
     "name": "stdout",
     "output_type": "stream",
     "text": [
      "name='Alice' age=30 email=None\n"
     ]
    }
   ],
   "source": [
    "\n",
    "# Now you can use the Pydantic model directly with response_model\n",
    "completion = client.chat.completions.create(\n",
    "    model=\"gemma2-9b-it\",\n",
    "    messages=[\n",
    "        {\n",
    "            \"role\": \"system\",\n",
    "            \"content\": \"\"\"You are an AI assistant that helps users with their tasks.\"\"\"\n",
    "        },\n",
    "        {\n",
    "            \"role\": \"user\",\n",
    "            \"content\": \"\"\"Make up a user.\"\"\"\n",
    "        }\n",
    "    ],\n",
    "    temperature=0.6,\n",
    "    max_completion_tokens=1024,\n",
    "    response_model=User  # Use response_model instead of response_format\n",
    ")\n",
    "\n",
    "print(completion)  # This will be a User instance"
   ]
  },
  {
   "cell_type": "code",
   "execution_count": 35,
   "metadata": {},
   "outputs": [
    {
     "name": "stdout",
     "output_type": "stream",
     "text": [
      "ticket_id='1232399' order_id='12312399' user_id='12322399' date='2023-01-01' description='User ordered chicken biriyani and beef, but beef was missing from the order.' category='delivery' priority='high' status='open'\n"
     ]
    }
   ],
   "source": [
    "\n",
    "# Now you can use the Pydantic model directly with response_model\n",
    "completion = client.chat.completions.create(\n",
    "    model=\"gemma2-9b-it\",\n",
    "    messages=[\n",
    "        {\n",
    "            \"role\": \"system\",\n",
    "            \"content\": \"\"\"You are a support ticket assistant working in a food delivery company. You will be given a description /\n",
    "             of a support ticket raised by a user. Your task is to extract the following information from the description: /\n",
    "             \n",
    "             1. ticket_id   \n",
    "             2. order_id\n",
    "             3. user_id\n",
    "             4. date\n",
    "             5. description (create a summary of the user's ticket)\n",
    "             6. category (e.g. delivery, payment, etc.)\n",
    "             7. priority (e.g. low, medium, high)\n",
    "             8. status (e.g. open, closed, in progress)\n",
    "\n",
    "             DO NOT include any additional information.\n",
    "             \n",
    "             \"\"\"\n",
    "        },\n",
    "        {\n",
    "            \"role\": \"user\",\n",
    "            \"content\": \"\"\" I ordered a chicken biriyani and beef. but beef is missing. order was placed on 2023-01-01. ticket_id is 1232399, order_id is 12312399, user_id is 12322399\"\"\"\n",
    "        }\n",
    "    ],\n",
    "    temperature=0.6,\n",
    "    max_completion_tokens=1024,\n",
    "    response_model=SupportTicket  # Use response_model instead of response_format\n",
    ")\n",
    "\n",
    "print(completion)  # This will be a User instance"
   ]
  },
  {
   "cell_type": "markdown",
   "metadata": {},
   "source": []
  }
 ],
 "metadata": {
  "kernelspec": {
   "display_name": "genai",
   "language": "python",
   "name": "python3"
  },
  "language_info": {
   "codemirror_mode": {
    "name": "ipython",
    "version": 3
   },
   "file_extension": ".py",
   "mimetype": "text/x-python",
   "name": "python",
   "nbconvert_exporter": "python",
   "pygments_lexer": "ipython3",
   "version": "3.10.17"
  }
 },
 "nbformat": 4,
 "nbformat_minor": 2
}
